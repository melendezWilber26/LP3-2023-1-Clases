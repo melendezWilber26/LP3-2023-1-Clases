{
 "cells": [
  {
   "cell_type": "markdown",
   "id": "0fd6d7b9",
   "metadata": {},
   "source": [
    "# Semana03\n",
    "Wilber Jesús Meléndez Francisco"
   ]
  },
  {
   "cell_type": "markdown",
   "id": "b66849ce",
   "metadata": {},
   "source": [
    "Temas:\n",
    "    1. Números\n",
    "    2. Variables\n",
    "    3. Manejo de cadenas\n",
    "    4. Ingreso de datos por teclado\n",
    "    5. Operadores"
   ]
  },
  {
   "cell_type": "markdown",
   "id": "09d8c1f9",
   "metadata": {},
   "source": [
    "2. Variables"
   ]
  },
  {
   "cell_type": "code",
   "execution_count": 3,
   "id": "2ff26fa1",
   "metadata": {},
   "outputs": [],
   "source": [
    "edad = 19"
   ]
  },
  {
   "cell_type": "code",
   "execution_count": 4,
   "id": "6202b4f6",
   "metadata": {},
   "outputs": [
    {
     "data": {
      "text/plain": [
       "19"
      ]
     },
     "execution_count": 4,
     "metadata": {},
     "output_type": "execute_result"
    }
   ],
   "source": [
    "edad\n"
   ]
  },
  {
   "cell_type": "code",
   "execution_count": 9,
   "id": "5640c3b7",
   "metadata": {},
   "outputs": [],
   "source": [
    "nombre = \"Wilber \""
   ]
  },
  {
   "cell_type": "code",
   "execution_count": 10,
   "id": "d43f170d",
   "metadata": {},
   "outputs": [
    {
     "data": {
      "text/plain": [
       "'Wilber'"
      ]
     },
     "execution_count": 10,
     "metadata": {},
     "output_type": "execute_result"
    }
   ],
   "source": [
    "nombre\n"
   ]
  },
  {
   "cell_type": "code",
   "execution_count": 17,
   "id": "2cc25ed2",
   "metadata": {},
   "outputs": [],
   "source": [
    "apellido = \" Meléndez Francisco\""
   ]
  },
  {
   "cell_type": "code",
   "execution_count": 18,
   "id": "4b07b92e",
   "metadata": {},
   "outputs": [
    {
     "data": {
      "text/plain": [
       "' Meléndez Francisco'"
      ]
     },
     "execution_count": 18,
     "metadata": {},
     "output_type": "execute_result"
    }
   ],
   "source": [
    "apellido"
   ]
  },
  {
   "cell_type": "code",
   "execution_count": 19,
   "id": "e906ae0d",
   "metadata": {},
   "outputs": [],
   "source": [
    "nombrecompleto = nombre + apellido"
   ]
  },
  {
   "cell_type": "code",
   "execution_count": 20,
   "id": "c39ef6b5",
   "metadata": {},
   "outputs": [
    {
     "data": {
      "text/plain": [
       "'Wilber Meléndez Francisco'"
      ]
     },
     "execution_count": 20,
     "metadata": {},
     "output_type": "execute_result"
    }
   ],
   "source": [
    "nombrecompleto"
   ]
  },
  {
   "cell_type": "code",
   "execution_count": 21,
   "id": "d01b5850",
   "metadata": {},
   "outputs": [],
   "source": [
    "#para cada tipo de variable utilizamos type\n",
    "#por ejemplo\n",
    "numero = 50"
   ]
  },
  {
   "cell_type": "code",
   "execution_count": 22,
   "id": "4a3e4505",
   "metadata": {},
   "outputs": [
    {
     "data": {
      "text/plain": [
       "int"
      ]
     },
     "execution_count": 22,
     "metadata": {},
     "output_type": "execute_result"
    }
   ],
   "source": [
    "type(numero)"
   ]
  },
  {
   "cell_type": "code",
   "execution_count": 23,
   "id": "357df945",
   "metadata": {},
   "outputs": [],
   "source": [
    "talla = 1.50"
   ]
  },
  {
   "cell_type": "code",
   "execution_count": 24,
   "id": "02b40bc0",
   "metadata": {},
   "outputs": [
    {
     "data": {
      "text/plain": [
       "1.5"
      ]
     },
     "execution_count": 24,
     "metadata": {},
     "output_type": "execute_result"
    }
   ],
   "source": [
    "talla"
   ]
  },
  {
   "cell_type": "code",
   "execution_count": 25,
   "id": "c3d846f0",
   "metadata": {},
   "outputs": [
    {
     "data": {
      "text/plain": [
       "float"
      ]
     },
     "execution_count": 25,
     "metadata": {},
     "output_type": "execute_result"
    }
   ],
   "source": [
    "type(talla)"
   ]
  },
  {
   "cell_type": "code",
   "execution_count": 28,
   "id": "916ffbe1",
   "metadata": {},
   "outputs": [
    {
     "data": {
      "text/plain": [
       "'100'"
      ]
     },
     "execution_count": 28,
     "metadata": {},
     "output_type": "execute_result"
    }
   ],
   "source": [
    "#para convertir un numero en cadena utilizamos str()\n",
    "numero = 100\n",
    "cadena = str(numero)\n",
    "cadena"
   ]
  },
  {
   "cell_type": "code",
   "execution_count": 30,
   "id": "7d73bd32",
   "metadata": {},
   "outputs": [
    {
     "data": {
      "text/plain": [
       "50"
      ]
     },
     "execution_count": 30,
     "metadata": {},
     "output_type": "execute_result"
    }
   ],
   "source": [
    "#para convertir de cadena a entero usamos int()\n",
    "cadena2 = \"50\"\n",
    "numero2 = int(cadena2)\n",
    "numero2"
   ]
  },
  {
   "cell_type": "code",
   "execution_count": null,
   "id": "9bf0e1d5",
   "metadata": {},
   "outputs": [],
   "source": [
    "#para convertir cadena a decimal float()\n",
    "cadena3="
   ]
  }
 ],
 "metadata": {
  "kernelspec": {
   "display_name": "Python 3 (ipykernel)",
   "language": "python",
   "name": "python3"
  },
  "language_info": {
   "codemirror_mode": {
    "name": "ipython",
    "version": 3
   },
   "file_extension": ".py",
   "mimetype": "text/x-python",
   "name": "python",
   "nbconvert_exporter": "python",
   "pygments_lexer": "ipython3",
   "version": "3.9.12"
  }
 },
 "nbformat": 4,
 "nbformat_minor": 5
}
